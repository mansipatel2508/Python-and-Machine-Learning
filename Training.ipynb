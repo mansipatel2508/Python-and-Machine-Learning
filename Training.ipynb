{
  "nbformat": 4,
  "nbformat_minor": 0,
  "metadata": {
    "colab": {
      "name": "Training.ipynb",
      "version": "0.3.2",
      "provenance": [],
      "collapsed_sections": [],
      "include_colab_link": true
    },
    "kernelspec": {
      "name": "python3",
      "display_name": "Python 3"
    }
  },
  "cells": [
    {
      "cell_type": "markdown",
      "metadata": {
        "id": "view-in-github",
        "colab_type": "text"
      },
      "source": [
        "<a href=\"https://colab.research.google.com/github/mihir8181/Python-and-Machine-Learning/blob/master/Training.ipynb\" target=\"_parent\"><img src=\"https://colab.research.google.com/assets/colab-badge.svg\" alt=\"Open In Colab\"/></a>"
      ]
    },
    {
      "cell_type": "code",
      "metadata": {
        "id": "Q8iSNQllH2hl",
        "colab_type": "code",
        "colab": {}
      },
      "source": [
        "!apt-get -qq install -y libsm6 libxext6 && pip install -q -U opencv-python"
      ],
      "execution_count": 0,
      "outputs": []
    },
    {
      "cell_type": "code",
      "metadata": {
        "id": "cNhomOq8IHjl",
        "colab_type": "code",
        "colab": {}
      },
      "source": [
        "import os\n",
        "import numpy as np\n",
        "import matplotlib.pyplot as plt\n",
        "import cv2\n",
        "from google.colab import drive\n",
        "from imageio import imread\n",
        "from pylab import rcParams\n",
        "#import pickle\n",
        "# Accessing My Google Drive\n",
        "drive.mount('/content/drive')"
      ],
      "execution_count": 0,
      "outputs": []
    },
    {
      "cell_type": "code",
      "metadata": {
        "id": "K2wuR68pIZSd",
        "colab_type": "code",
        "colab": {}
      },
      "source": [
        "# defining global variable path\n",
        "# Location of my dataset on My Google Drive\n",
        "image_path = \"drive/My Drive/project/\"\n",
        "#image_path =\"drive/My Drive/Colab Notebooks/Final Project/training/\"\n",
        "#image_path = \"https://drive.google.com/open?id=12O4zBNEjPKhCS3c8j7mftuskjsKpeQg3\"\n",
        "import tensorflow as tf\n",
        "\n",
        "def loadImages(path,folder):\n",
        "    '''Put files into lists and return them as one list with all images \n",
        "     in the folder'''\n",
        "    image_files = sorted([os.path.join(path,folder, file)\n",
        "                          for file in os.listdir(path+folder+'/')\n",
        "                          if (file.endswith('.jpg') or file.endswith('.jpeg'))])\n",
        "    return image_files\n",
        "\n"
      ],
      "execution_count": 0,
      "outputs": []
    },
    {
      "cell_type": "code",
      "metadata": {
        "id": "ZvsE7cp2KuDS",
        "colab_type": "code",
        "colab": {}
      },
      "source": [
        "from keras.models import Sequential \n",
        "from keras.layers import Dense, Activation, Dropout, BatchNormalization, Conv2D, MaxPool2D, Flatten\n",
        "from keras import optimizers\n",
        "import sys\n",
        "import os\n",
        "cnn_model=Sequential()\n",
        "\n",
        "cnn_model.add(Conv2D(input_shape=(128, 128, 3), filters=20, kernel_size=4, strides=2, padding='valid',\n",
        "                         activation='relu',  data_format='channels_last'))\n",
        "\n",
        "cnn_model.add(Conv2D(filters=15, kernel_size=3, strides=1, padding='valid', activation='relu',\n",
        "                          data_format='channels_last'))\n",
        "\n",
        "cnn_model.add(MaxPool2D(pool_size=3, data_format='channels_last'))\n",
        "\n",
        "cnn_model.add(Conv2D(filters=20, kernel_size=4, strides=2, padding='valid', activation='relu',\n",
        "                          data_format='channels_last'))\n",
        "\n",
        "cnn_model.add(MaxPool2D(pool_size=2, data_format='channels_last'))\n",
        "cnn_model.add(Flatten())\n",
        "cnn_model.add(Dropout(0.2))\n",
        "\n",
        "cnn_model.add(Dense(8, activation='softmax'))\n",
        "\n",
        "cnn_model.compile(optimizer=optimizers.Adam(lr=0.0001), loss='binary_crossentropy', metrics=['accuracy'])\n",
        "cnn_model.summary()"
      ],
      "execution_count": 0,
      "outputs": []
    },
    {
      "cell_type": "code",
      "metadata": {
        "id": "xyj5HoRKJY0b",
        "colab_type": "code",
        "colab": {}
      },
      "source": [
        "from keras.preprocessing.image import ImageDataGenerator \n",
        "train_datagen = ImageDataGenerator(rescale=1./255)\n",
        "train_generator = train_datagen.flow_from_directory(\n",
        "        # This is the target directory\n",
        "        image_path,\n",
        "        color_mode='rgb',\n",
        "        # All images will be resized to 64x64        \n",
        "        target_size=(128,128),\n",
        "        batch_size=16,\n",
        "        # Since we use binary_crossentropy loss, we need binary labels\n",
        "        )\n",
        "\n",
        "# Note that the validation data should not be augmented!\n",
        "test_datagen = ImageDataGenerator(rescale=1./255)\n",
        "history = cnn_model.fit_generator(\n",
        "      train_generator,\n",
        "      steps_per_epoch=100,\n",
        "      epochs=200,\n",
        "      verbose=1,\n",
        "      )\n",
        "\n",
        "#cnn_model.save(image_path+'keras_cnn_model_only_images.hdf5')"
      ],
      "execution_count": 0,
      "outputs": []
    },
    {
      "cell_type": "code",
      "metadata": {
        "id": "j8ZMRwqOzoYd",
        "colab_type": "code",
        "colab": {}
      },
      "source": [
        "cnn_model.save(image_path+'keras_cnn_model.hdf5')"
      ],
      "execution_count": 0,
      "outputs": []
    },
    {
      "cell_type": "code",
      "metadata": {
        "id": "BmUOdxnF4LtU",
        "colab_type": "code",
        "outputId": "62d00f79-16c6-4f21-a5a0-0dac8e3e2cfe",
        "colab": {
          "base_uri": "https://localhost:8080/",
          "height": 153
        }
      },
      "source": [
        "d = train_generator.class_indices"
      ],
      "execution_count": 0,
      "outputs": [
        {
          "output_type": "execute_result",
          "data": {
            "text/plain": [
              "{'black': 0,\n",
              " 'blue': 1,\n",
              " 'green': 2,\n",
              " 'orange': 3,\n",
              " 'red': 4,\n",
              " 'violet': 5,\n",
              " 'white': 6,\n",
              " 'yellow': 7}"
            ]
          },
          "metadata": {
            "tags": []
          },
          "execution_count": 21
        }
      ]
    }
  ]
}